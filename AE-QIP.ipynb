{
 "cells": [
  {
   "cell_type": "code",
   "execution_count": 1,
   "metadata": {},
   "outputs": [],
   "source": [
    "from qiskit import QuantumCircuit, transpile, assemble, ClassicalRegister, QuantumRegister\n",
    "from qiskit.visualization import plot_bloch_multivector, plot_histogram\n",
    "from qiskit_aer import Aer\n",
    "\n",
    "from qiskit.circuit import ParameterVector\n",
    "from qiskit_algorithms.utils import algorithm_globals\n",
    "\n",
    "from qiskit.circuit.instruction import Instruction\n",
    "from math import pi\n",
    "import numpy as np\n",
    "from pynverse import inversefunc\n",
    "from qiskit.circuit.library import ZGate,RYGate"
   ]
  },
  {
   "cell_type": "code",
   "execution_count": 2,
   "metadata": {},
   "outputs": [],
   "source": [
    "#初始化数据\n",
    "x1 = np.array([0.325, 0.102, 0.28, 0.843, 0.16, 0.133, 0.125, 0.189])\n",
    "x2 = np.array([[0.215, 0.004, 0.339, 0.857, 0.061, 0.17, 0.15, 0.223],\n",
    "[0.829, 0.153, 0.279, 0.161, 0.065, 0.041, 0.151, 0.397],\n",
    "[0.907, 0.16, 0.046, 0.052, 0.13, 0.202, 0.084, 0.289],\n",
    "[0.115, 0.032, 0.355, 0.068, 0.386, 0.391, 0.622, 0.408],\n",
    "[0.178, 0.345, 0.322, 0.114, 0.015, 0.004, 0.786, 0.339],\n",
    "[0.061, 0.081, 0.215, 0.028, 0.777, 0.481, 0.059, 0.322]])"
   ]
  },
  {
   "cell_type": "code",
   "execution_count": 3,
   "metadata": {},
   "outputs": [],
   "source": [
    "def get_degree(x1,x2):\n",
    "    E = np.linalg.norm(x1, ord=2, axis=None, keepdims=False)\n",
    "    F = np.linalg.norm(x2, ord=2, axis=None, keepdims=False)\n",
    "    e = x1/E\n",
    "    f = x2/F\n",
    "\n",
    "    assert np.linalg.norm(e, ord=2, axis=None, keepdims=False)-1 < 1e-9\n",
    "    assert np.linalg.norm(f, ord=2, axis=None, keepdims=False)-1 < 1e-9\n",
    "\n",
    "    theta1 = float(inversefunc(np.cos, y_values=np.linalg.norm(e[:4], ord=2), domain=[0, np.pi/2]))*2\n",
    "    theta2 = float(inversefunc(np.cos, y_values=np.linalg.norm(e[4:6], ord=2)/np.linalg.norm(e[4:], ord=2, axis=None, keepdims=False), domain=[0, np.pi/2]))*2\n",
    "    theta3 = float(inversefunc(np.cos, y_values=np.linalg.norm(e[:2], ord=2)/np.linalg.norm(e[:4], ord=2, axis=None, keepdims=False), domain=[0, np.pi/2]))*2\n",
    "    theta4 = float(inversefunc(np.cos, y_values=e[2]/np.linalg.norm(e[2:4], ord=2, axis=None, keepdims=False), domain=[0, np.pi/2]))*2\n",
    "    theta5 = float(inversefunc(np.cos, y_values=e[6]/np.linalg.norm(e[6:], ord=2, axis=None, keepdims=False), domain=[0, np.pi/2]))*2\n",
    "    theta6 = float(inversefunc(np.cos, y_values=e[4]/np.linalg.norm(e[4:6], ord=2, axis=None, keepdims=False), domain=[0, np.pi/2]))*2\n",
    "    theta7 = float(inversefunc(np.cos, y_values=e[0]/np.linalg.norm(e[:2], ord=2, axis=None, keepdims=False), domain=[0, np.pi/2]))*2\n",
    "\n",
    "    beta1 = float(inversefunc(np.cos, y_values=np.linalg.norm(f[:4], ord=2), domain=[0, np.pi/2]))*2\n",
    "    beta2 = float(inversefunc(np.cos, y_values=np.linalg.norm(f[4:6], ord=2)/np.linalg.norm(f[4:], ord=2, axis=None, keepdims=False), domain=[0, np.pi/2]))*2\n",
    "    beta3 = float(inversefunc(np.cos, y_values=np.linalg.norm(f[:2], ord=2)/np.linalg.norm(f[:4], ord=2, axis=None, keepdims=False), domain=[0, np.pi/2]))*2\n",
    "    beta4 = float(inversefunc(np.cos, y_values=f[2]/np.linalg.norm(f[2:4], ord=2, axis=None, keepdims=False), domain=[0, np.pi/2]))*2\n",
    "    beta5 = float(inversefunc(np.cos, y_values=f[6]/np.linalg.norm(f[6:], ord=2, axis=None, keepdims=False), domain=[0, np.pi/2]))*2\n",
    "    beta6 = float(inversefunc(np.cos, y_values=f[4]/np.linalg.norm(f[4:6], ord=2, axis=None, keepdims=False), domain=[0, np.pi/2]))*2\n",
    "    beta7 = float(inversefunc(np.cos, y_values=f[0]/np.linalg.norm(f[:2], ord=2, axis=None, keepdims=False), domain=[0, np.pi/2]))*2\n",
    "    return [[theta1,theta2,theta3,theta4,theta5,theta6,theta7], [beta1,beta2,beta3,beta4,beta5,beta6,beta7]]"
   ]
  },
  {
   "cell_type": "code",
   "execution_count": 4,
   "metadata": {},
   "outputs": [],
   "source": [
    "def Us_gate(params):\n",
    "    qc = QuantumCircuit(3, name=\"Us_gate\")\n",
    "    \n",
    "    qc.ry(params[0],2)\n",
    "    qc.cry(params[1],2,1)\n",
    "    qc.x(2)\n",
    "    qc.cry(params[2],2,0)\n",
    "\n",
    "    qc.x(2)\n",
    "    qc.cry(params[3],0,1)\n",
    "    \n",
    "    # qc.append(ccry(params[4], 2, 0, 1), range(3))\n",
    "    qc.append(RYGate(params[4]).control(num_ctrl_qubits=2, ctrl_state='11'), [2, 1, 0])\n",
    "\n",
    "    qc.x(1)\n",
    "    \n",
    "    qc.append(RYGate(params[5]).control(num_ctrl_qubits=2, ctrl_state='11'), [2, 1, 0])\n",
    "    \n",
    "    qc.x(range(3))\n",
    "    \n",
    "    qc.append(RYGate(params[6]).control(num_ctrl_qubits=2, ctrl_state='11'), [2, 1, 0])\n",
    "    \n",
    "    qc.x([0,2])\n",
    "    \n",
    "    return qc\n",
    "\n",
    "def Us_layer(params):\n",
    "    qc = QuantumCircuit(4, name=\"Us_layer\")\n",
    "    qc.h(0)\n",
    "    qc.compose(Us_gate(params[0]).control(1, None, '1'), [0, 1,2,3], inplace=True)\n",
    "    \n",
    "    qc.x(0)\n",
    "    qc.compose(Us_gate(params[1]).control(1, None, '1'), [0, 1,2,3], inplace=True)\n",
    "    qc.x(0)\n",
    "    qc.h(0)\n",
    "    \n",
    "    return qc"
   ]
  },
  {
   "cell_type": "code",
   "execution_count": 5,
   "metadata": {},
   "outputs": [],
   "source": [
    "def Ug_layer(params):\n",
    "    qc = QuantumCircuit(4, name=\"Ug_gate\")\n",
    "    qc.z(0)\n",
    "    # Us_dg\n",
    "    qc.compose(Us_layer(params).inverse(), range(4), inplace=True)\n",
    "\n",
    "    qc.x(range(4))\n",
    "    cccz = ZGate().control(num_ctrl_qubits=3, ctrl_state='111')\n",
    "    qc.compose(cccz, [1,2,3, 0], inplace=True)\n",
    "    qc.x(range(4))\n",
    "\n",
    "    # Us\n",
    "    qc.compose(Us_layer(params), range(4), inplace=True)\n",
    "    \n",
    "    return qc\n"
   ]
  },
  {
   "cell_type": "code",
   "execution_count": 6,
   "metadata": {},
   "outputs": [],
   "source": [
    "def swap_registers(circuit, n):\n",
    "    for qubit in range(n//2):\n",
    "        circuit.swap(qubit, n-qubit-1)\n",
    "    return circuit\n",
    "\n",
    "def qft_rotations(circuit, n):\n",
    "    \"\"\"Performs qft on the first n qubits in circuit (without swaps)\"\"\"\n",
    "    if n == 0:\n",
    "        return circuit\n",
    "    n -= 1\n",
    "    circuit.h(n)\n",
    "    for qubit in range(n):\n",
    "        circuit.cp(pi/2**(n-qubit), qubit, n)\n",
    "    # At the end of our function, we call the same function again on\n",
    "    # the next qubits (we reduced n by one earlier in the function)\n",
    "    qft_rotations(circuit, n)\n",
    "\n",
    "def qft(circuit, n):\n",
    "    \"\"\"QFT on the first n qubits in circuit\"\"\"\n",
    "    qft_rotations(circuit, n)\n",
    "    swap_registers(circuit, n)\n",
    "    return circuit\n",
    "\n",
    "def qft_circuit(num_qubits):\n",
    "    qft_circuit = QuantumCircuit(num_qubits, name=\"QFT\")\n",
    "    qft_circ = qft(qft_circuit, num_qubits)\n",
    "    \n",
    "    qc = QuantumCircuit(num_qubits)\n",
    "    qc.append(qft_circ, range(num_qubits))\n",
    "    return qc\n",
    "\n",
    "def inverse_qft(num_qubits):\n",
    "    qft_circuit = QuantumCircuit(num_qubits, name=\"QFT\")\n",
    "    qft_circ = qft(qft_circuit, num_qubits)\n",
    "    invqft_circ = qft_circ.inverse()\n",
    "    \n",
    "    qc = QuantumCircuit(num_qubits)\n",
    "    qc.append(invqft_circ, range(num_qubits))\n",
    "    return qc"
   ]
  },
  {
   "cell_type": "code",
   "execution_count": 7,
   "metadata": {},
   "outputs": [],
   "source": [
    "def GQAE_layer(orcal_qubit, aux_qubit, params):\n",
    "    num_qubits = orcal_qubit + aux_qubit\n",
    "    qr = QuantumRegister(num_qubits, 'q')\n",
    "    cr = ClassicalRegister(aux_qubit, 'c')\n",
    "    qc = QuantumCircuit(qr, cr)\n",
    "    \n",
    "    qc.h(range(aux_qubit))\n",
    "    qc.barrier()\n",
    "\n",
    "    qc.append(Us_layer(params), range(aux_qubit, num_qubits))\n",
    "    \n",
    "    reps = 1\n",
    "    for i in range(aux_qubit):\n",
    "        for r in range(reps):\n",
    "            qc.append(Ug_layer(params).control(1, None, '1'), [i]+np.arange(aux_qubit, num_qubits).tolist())\n",
    "        reps*=2\n",
    "    qc.append(inverse_qft(aux_qubit), range(aux_qubit))\n",
    "    qc.measure(qr[:aux_qubit], cr[:aux_qubit])\n",
    "   \n",
    "    return qc\n"
   ]
  },
  {
   "cell_type": "code",
   "execution_count": 8,
   "metadata": {},
   "outputs": [
    {
     "name": "stdout",
     "output_type": "stream",
     "text": [
      "SN    Quant_cal       Classic_cal     Err rate            \n",
      "------------------------------------------------------\n",
      "1     0.9569          0.9809          2.4467%              \n",
      "------------------------------------------------------\n",
      "2     0.5957          0.6086          2.1196%              \n",
      "------------------------------------------------------\n",
      "3     0.4714          0.4806          1.9143%            \n",
      "------------------------------------------------------\n",
      "4     0.4714          0.466           1.1588%          \n",
      "------------------------------------------------------\n",
      "5     0.4276          0.4446          3.8237%           \n",
      "------------------------------------------------------\n",
      "6     0.3827          0.3684          3.8817%              \n",
      "------------------------------------------------------\n"
     ]
    }
   ],
   "source": [
    "shots = 1\n",
    "orcal_qubit = 4\n",
    "aux_qubit = 7\n",
    "num_qubits = orcal_qubit + aux_qubit\n",
    "theta = 2**(aux_qubit-1)\n",
    "def get_counts(params):\n",
    "    GQAE_curcuit = GQAE_layer(orcal_qubit, aux_qubit, params)\n",
    "    aer_sim = Aer.get_backend('aer_simulator')\n",
    "    t_circuit = transpile(GQAE_curcuit, aer_sim)\n",
    "    # one measure to get results\n",
    "    results = aer_sim.run(t_circuit, shots=shots).result() #direct get result from t_circuit\n",
    "    counts = results.get_counts(t_circuit)    \n",
    "    return counts\n",
    "\n",
    "def q_out(y):\n",
    "    inp = -np.cos(np.pi*y/theta)\n",
    "    return round(float(inp),4)\n",
    "def c_out(x1_,x2_):\n",
    "    return round(float(np.matmul(x1_,x2_)),4)\n",
    "def err_rate(qout,cout):\n",
    "    return str(round(100*abs(qout - cout)/cout,4))+'%'\n",
    "\n",
    "print('{0: <5} {1: <15} {2: <15} {3: <15} {4: <15}'.format('SN','Quant_cal','Classic_cal','Err rate','Prob'))\n",
    "print('{0: <65}'.format('-'*65))\n",
    "for i in range(6):\n",
    "    params = get_degree(x1,x2[i])\n",
    "    counts = get_counts(params)\n",
    "    \n",
    "    k1 = sorted(counts, key=counts.get, reverse=True)[0]\n",
    "    v1 = counts[k1]\n",
    "    y = int(k1 ,2)\n",
    "    \n",
    "    k2, v2 = 0, 0\n",
    "    try:\n",
    "        k2 = sorted(counts, key=counts.get, reverse=True)[1]\n",
    "        v2 = counts[k2]\n",
    "    except Exception as e:\n",
    "        pass\n",
    "    \n",
    "    qout = q_out(y)\n",
    "    cout = c_out(x1,x2[i])\n",
    "    err = err_rate(qout,cout)\n",
    "    prob = (v1+v2)/shots\n",
    "    \n",
    "    print('{0: <5} {1: <15} {2: <15} {3: <15}'.format(i+1, qout, cout, err))\n",
    "    print('{0: <50}'.format('-'*50))\n"
   ]
  },
  {
   "cell_type": "code",
   "execution_count": 9,
   "metadata": {
    "scrolled": true
   },
   "outputs": [
    {
     "name": "stderr",
     "output_type": "stream",
     "text": [
      "C:\\Users\\Administrator\\anaconda3\\lib\\site-packages\\qiskit\\visualization\\circuit\\matplotlib.py:266: FutureWarning: The default matplotlib drawer scheme will be changed to \"iqp\" in a following release. To silence this warning, specify the current default explicitly as style=\"clifford\", or the new default as style=\"iqp\".\n",
      "  self._style, def_font_ratio = load_style(self._style)\n"
     ]
    },
    {
     "data": {
      "image/png": "[encoded data removed]",
      "text/plain": [
       "<Figure size 1959.72x367.889 with 1 Axes>"
      ]
     },
     "execution_count": 9,
     "metadata": {},
     "output_type": "execute_result"
    }
   ],
   "source": [
    "Ug_gate = Ug_layer(params)\n",
    "Ug_gate.draw('mpl')"
   ]
  },
  {
   "cell_type": "code",
   "execution_count": 10,
   "metadata": {},
   "outputs": [
    {
     "data": {
      "image/png": "[encoded data removed]",
      "text/plain": [
       "<Figure size 789.163x367.889 with 1 Axes>"
      ]
     },
     "execution_count": 10,
     "metadata": {},
     "output_type": "execute_result"
    }
   ],
   "source": [
    "Us_gate = Us_layer(params)\n",
    "Us_gate.draw('mpl')"
   ]
  },
  {
   "cell_type": "code",
   "execution_count": null,
   "metadata": {},
   "outputs": [],
   "source": []
  }
 ],
 "metadata": {
  "kernelspec": {
   "display_name": "Python 3 (ipykernel)",
   "language": "python",
   "name": "python3"
  },
  "language_info": {
   "codemirror_mode": {
    "name": "ipython",
    "version": 3
   },
   "file_extension": ".py",
   "mimetype": "text/x-python",
   "name": "python",
   "nbconvert_exporter": "python",
   "pygments_lexer": "ipython3",
   "version": "3.8.5"
  }
 },
 "nbformat": 4,
 "nbformat_minor": 4
}
